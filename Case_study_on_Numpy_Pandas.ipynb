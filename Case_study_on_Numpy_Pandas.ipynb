{
 "cells": [
  {
   "cell_type": "code",
   "execution_count": 5,
   "id": "0f432332-2d04-43ee-b5e0-b70560a78752",
   "metadata": {},
   "outputs": [],
   "source": [
    "import numpy as np\n",
    "import pandas as pd\n",
    "import math"
   ]
  },
  {
   "cell_type": "code",
   "execution_count": null,
   "id": "af17ec9c-2170-4927-b71b-876eb3da4074",
   "metadata": {},
   "outputs": [],
   "source": [
    "# NUMPY PROBLEMS"
   ]
  },
  {
   "cell_type": "code",
   "execution_count": null,
   "id": "f37cdcff-fcab-478a-a392-a1e2200da8de",
   "metadata": {},
   "outputs": [],
   "source": [
    " # 1. Creating Arrays \n",
    " # ● Question: Using NumPy, create a 1D array of 20 random integers between 10 and 50. Then, find the mean and standard deviation of the array. \n",
    " # ● Hint: Use np.random.randint() for creating 1D array"
   ]
  },
  {
   "cell_type": "code",
   "execution_count": null,
   "id": "1b601c69-0303-49e9-87b7-b1310c63fd5a",
   "metadata": {},
   "outputs": [
    {
     "name": "stdout",
     "output_type": "stream",
     "text": [
      "Array: [39 24 34 33 47 21 14 15 35 18 20 40 34 16 18 24 39 30 41 45]\n",
      "Mean: 29.35\n",
      "Standard Deviation: 10.42245172692107\n"
     ]
    }
   ],
   "source": [
    "array = np.random.randint(10, 50, size=20)\n",
    "mean = np.mean(array)\n",
    "std_deviation = np.std(array)\n",
    "print(\"Array:\", array)\n",
    "print(\"Mean:\", mean)\n",
    "print(\"Standard Deviation:\", std_deviation)"
   ]
  },
  {
   "cell_type": "code",
   "execution_count": null,
   "id": "86db160f-aaad-4bf2-9d75-418d11c69297",
   "metadata": {},
   "outputs": [],
   "source": [
    "# Output:\n",
    "\n",
    "# Array: [39 24 34 33 47 21 14 15 35 18 20 40 34 16 18 24 39 30 41 45]\n",
    "# Mean: 29.35\n",
    "# Standard Deviation: 10.42245172692107"
   ]
  },
  {
   "cell_type": "code",
   "execution_count": null,
   "id": "d45b110c-d66f-43e0-a3a0-38488cee2812",
   "metadata": {},
   "outputs": [],
   "source": []
  },
  {
   "cell_type": "code",
   "execution_count": null,
   "id": "f26fd3dd-695a-40d7-8e23-3071245c366a",
   "metadata": {},
   "outputs": [],
   "source": [
    "# 2. Array Reshaping \n",
    "# ● Question: Create a 2D NumPy array of shape (6, 5) filled with random floats between 0 and 1. Reshape this array to have shape (5, 6) and print both \n",
    "# the original and reshaped arrays. \n",
    "# ● Hint: Use np.random.rand()"
   ]
  },
  {
   "cell_type": "code",
   "execution_count": null,
   "id": "0a88628c-c430-45f9-9071-575b097c4aec",
   "metadata": {},
   "outputs": [
    {
     "name": "stdout",
     "output_type": "stream",
     "text": [
      "Original Array (6, 5): [[0.00197131 0.49116036 0.29795624 0.50950131 0.02302197]\n",
      " [0.75563026 0.07533919 0.26735207 0.19304928 0.89465959]\n",
      " [0.91043957 0.07945634 0.11984097 0.80147683 0.58052495]\n",
      " [0.24658498 0.93205945 0.01286012 0.68066955 0.56177367]\n",
      " [0.28619213 0.42662519 0.42208829 0.51731288 0.81259376]\n",
      " [0.26445516 0.16367714 0.16830335 0.67823556 0.22145353]]\n",
      "\n",
      "Reshaped Array (5, 6): [[0.00197131 0.49116036 0.29795624 0.50950131 0.02302197 0.75563026]\n",
      " [0.07533919 0.26735207 0.19304928 0.89465959 0.91043957 0.07945634]\n",
      " [0.11984097 0.80147683 0.58052495 0.24658498 0.93205945 0.01286012]\n",
      " [0.68066955 0.56177367 0.28619213 0.42662519 0.42208829 0.51731288]\n",
      " [0.81259376 0.26445516 0.16367714 0.16830335 0.67823556 0.22145353]]\n"
     ]
    }
   ],
   "source": [
    "original_array = np.random.rand(6, 5)\n",
    "reshaped_array = original_array.reshape(5, 6)\n",
    "print(\"Original Array (6, 5):\",original_array)\n",
    "print(\"\\nReshaped Array (5, 6):\",reshaped_array)"
   ]
  },
  {
   "cell_type": "code",
   "execution_count": null,
   "id": "73504277-0eaa-4820-b786-513de7d9d581",
   "metadata": {},
   "outputs": [],
   "source": [
    "# OUTPUT:\n",
    "# Original Array (6, 5): [[0.00197131 0.49116036 0.29795624 0.50950131 0.02302197]\n",
    "#  [0.75563026 0.07533919 0.26735207 0.19304928 0.89465959]\n",
    "#  [0.91043957 0.07945634 0.11984097 0.80147683 0.58052495]\n",
    "#  [0.24658498 0.93205945 0.01286012 0.68066955 0.56177367]\n",
    "#  [0.28619213 0.42662519 0.42208829 0.51731288 0.81259376]\n",
    "#  [0.26445516 0.16367714 0.16830335 0.67823556 0.22145353]]\n",
    "\n",
    "# Reshaped Array (5, 6): [[0.00197131 0.49116036 0.29795624 0.50950131 0.02302197 0.75563026]\n",
    "#  [0.07533919 0.26735207 0.19304928 0.89465959 0.91043957 0.07945634]\n",
    "#  [0.11984097 0.80147683 0.58052495 0.24658498 0.93205945 0.01286012]\n",
    "#  [0.68066955 0.56177367 0.28619213 0.42662519 0.42208829 0.51731288]\n",
    "#  [0.81259376 0.26445516 0.16367714 0.16830335 0.67823556 0.22145353]]"
   ]
  },
  {
   "cell_type": "code",
   "execution_count": null,
   "id": "aad6ec30-668d-49bd-aace-3b69416d0949",
   "metadata": {},
   "outputs": [],
   "source": []
  },
  {
   "cell_type": "code",
   "execution_count": null,
   "id": "1d9ae241-c1f6-4016-ac4f-3ae2535425c4",
   "metadata": {},
   "outputs": [],
   "source": [
    "# 3. Array Indexing and Slicing \n",
    "# ● Question: Create a 2D array of shape (5, 5) filled with numbers from 1 to 25.  Extract a subarray that includes rows 2 to 4 and columns 1 to 3. \n",
    "# ● Hint: Use np.arange() and slicing techniques."
   ]
  },
  {
   "cell_type": "code",
   "execution_count": 12,
   "id": "dea3c624-a7d8-46b9-ba50-ef3103bcdf9f",
   "metadata": {},
   "outputs": [
    {
     "name": "stdout",
     "output_type": "stream",
     "text": [
      "Original Array: [[ 1  2  3  4  5]\n",
      " [ 6  7  8  9 10]\n",
      " [11 12 13 14 15]\n",
      " [16 17 18 19 20]\n",
      " [21 22 23 24 25]]\n",
      "\n",
      "Extracted Subarray (Rows 2 to 4 and Columns 1 to 3): [[ 6  7  8]\n",
      " [11 12 13]\n",
      " [16 17 18]]\n"
     ]
    }
   ],
   "source": [
    "array = np.arange(1, 26).reshape(5, 5)\n",
    "subarray = array[1:4, 0:3]\n",
    "print(\"Original Array:\",array)\n",
    "print(\"\\nExtracted Subarray (Rows 2 to 4 and Columns 1 to 3):\",subarray)"
   ]
  },
  {
   "cell_type": "code",
   "execution_count": null,
   "id": "2dab3f90-d7e1-4f76-a399-4f647e814da5",
   "metadata": {},
   "outputs": [],
   "source": [
    "# output:\n",
    "\n",
    "# Original Array: [[ 1  2  3  4  5]\n",
    "#  [ 6  7  8  9 10]\n",
    "#  [11 12 13 14 15]\n",
    "#  [16 17 18 19 20]\n",
    "#  [21 22 23 24 25]]\n",
    "\n",
    "# Extracted Subarray (Rows 2 to 4 and Columns 1 to 3): [[ 6  7  8]\n",
    "#  [11 12 13]\n",
    "#  [16 17 18]]"
   ]
  },
  {
   "cell_type": "code",
   "execution_count": null,
   "id": "1b622b6f-659d-4459-9d7a-9ec12ff64f30",
   "metadata": {},
   "outputs": [],
   "source": [
    "# 4. Array Operations \n",
    "# ● Question: Generate two 1D arrays A and B, each containing 10 random integers \n",
    "# between 1 and 100. Add the arrays together, then multiply the result by 2. Show \n",
    "# the results of each operation. \n",
    "# ● Hint: Use + for addition and * for multiplication."
   ]
  },
  {
   "cell_type": "code",
   "execution_count": 13,
   "id": "72e464d8-7f1d-49d2-8c60-62c468035c39",
   "metadata": {},
   "outputs": [
    {
     "name": "stdout",
     "output_type": "stream",
     "text": [
      "Array A: [ 9 46 86 92 41 90  3 28 56 67]\n",
      "Array B: [ 28  23  19  15  65  84  53  29  36 100]\n",
      "Sum of A and B: [ 37  69 105 107 106 174  56  57  92 167]\n",
      "Result after multiplying by 2: [ 74 138 210 214 212 348 112 114 184 334]\n"
     ]
    }
   ],
   "source": [
    "A = np.random.randint(1, 101, size=10)\n",
    "B = np.random.randint(1, 101, size=10)\n",
    "sum_array = A + B\n",
    "result_array = sum_array * 2\n",
    "print(\"Array A:\", A)\n",
    "print(\"Array B:\", B)\n",
    "print(\"Sum of A and B:\", sum_array)\n",
    "print(\"Result after multiplying by 2:\", result_array)\n"
   ]
  },
  {
   "cell_type": "code",
   "execution_count": null,
   "id": "29c472d9-aa59-49e3-b596-b1426b400b47",
   "metadata": {},
   "outputs": [],
   "source": [
    "# output:\n",
    "\n",
    "# Array A: [ 9 46 86 92 41 90  3 28 56 67]\n",
    "# Array B: [ 28  23  19  15  65  84  53  29  36 100]\n",
    "# Sum of A and B: [ 37  69 105 107 106 174  56  57  92 167]\n",
    "# Result after multiplying by 2: [ 74 138 210 214 212 348 112 114 184 334]"
   ]
  },
  {
   "cell_type": "code",
   "execution_count": null,
   "id": "338ff752-3ddd-4cd9-8d96-f094f477995d",
   "metadata": {},
   "outputs": [],
   "source": []
  },
  {
   "cell_type": "code",
   "execution_count": null,
   "id": "f4f7a9c6-d6e2-4975-82b6-418d0f6d4649",
   "metadata": {},
   "outputs": [],
   "source": [
    "# 5. Broadcasting \n",
    "# ● Question: Create a 2D array A of shape (3, 4) filled with random integers between \n",
    "# 1 and 10. Create a 1D array B of shape (4,) with values [1, 2, 3, 4]. Add the 1D array \n",
    "# to the 2D array and explain how broadcasting works in this case. \n",
    "# 1 \n",
    "# ● Hint: Use np.random.randint()."
   ]
  },
  {
   "cell_type": "code",
   "execution_count": 14,
   "id": "6a6403f2-52b2-4562-a338-9928b61a6e20",
   "metadata": {},
   "outputs": [
    {
     "name": "stdout",
     "output_type": "stream",
     "text": [
      "Array A (3, 4): [[ 6  4  8  4]\n",
      " [ 4 10  4  5]\n",
      " [ 3  4  2  3]]\n",
      "\n",
      "Array B (4,): [1 2 3 4]\n",
      "\n",
      "Result of Broadcasting (A + B): [[ 7  6 11  8]\n",
      " [ 5 12  7  9]\n",
      " [ 4  6  5  7]]\n"
     ]
    }
   ],
   "source": [
    "A = np.random.randint(1, 11, size=(3, 4))\n",
    "B = np.array([1, 2, 3, 4])\n",
    "result = A + B\n",
    "print(\"Array A (3, 4):\",A)\n",
    "print(\"\\nArray B (4,):\",B)\n",
    "print(\"\\nResult of Broadcasting (A + B):\",result)"
   ]
  },
  {
   "cell_type": "code",
   "execution_count": null,
   "id": "d8b59a49-aa48-4078-9593-0786c334940b",
   "metadata": {},
   "outputs": [],
   "source": [
    "# Output\n",
    "\n",
    "# Array A (3, 4): [[ 6  4  8  4]\n",
    "#  [ 4 10  4  5]\n",
    "#  [ 3  4  2  3]]\n",
    "\n",
    "# Array B (4,): [1 2 3 4]\n",
    "\n",
    "# Result of Broadcasting (A + B): [[ 7  6 11  8]\n",
    "#  [ 5 12  7  9]\n",
    "#  [ 4  6  5  7]]"
   ]
  },
  {
   "cell_type": "code",
   "execution_count": null,
   "id": "cddae789-38e5-45b4-8f35-fe7b3bc9134b",
   "metadata": {},
   "outputs": [],
   "source": []
  },
  {
   "cell_type": "code",
   "execution_count": null,
   "id": "2e66cd40-ff18-4838-a7ae-2e6ac9516c3a",
   "metadata": {},
   "outputs": [],
   "source": [
    "# 6. Finding Maximum/Minimum Values \n",
    "# ● Question: Create a 3x3 matrix of random integers between 1 and 100. Find the  row with the maximum sum, and then the maximum value in that row. \n",
    "# ● Hint: Use np.sum() and np.argmax()"
   ]
  },
  {
   "cell_type": "code",
   "execution_count": 15,
   "id": "b6707607-f112-46a0-8a61-edbca2fa19fa",
   "metadata": {},
   "outputs": [
    {
     "name": "stdout",
     "output_type": "stream",
     "text": [
      "Matrix: [[54 20  9]\n",
      " [66 42 25]\n",
      " [65 75 45]]\n",
      "\n",
      "Row with Maximum Sum (Index): 2\n",
      "Maximum Value in that Row: 75\n"
     ]
    }
   ],
   "source": [
    "matrix = np.random.randint(1, 101, size=(3, 3))\n",
    "row_sums = np.sum(matrix, axis=1)\n",
    "max_row_index = np.argmax(row_sums)\n",
    "max_value_in_row = np.max(matrix[max_row_index])\n",
    "\n",
    "print(\"Matrix:\",matrix)\n",
    "print(\"\\nRow with Maximum Sum (Index):\", max_row_index)\n",
    "print(\"Maximum Value in that Row:\", max_value_in_row)\n"
   ]
  },
  {
   "cell_type": "code",
   "execution_count": null,
   "id": "da635886-da78-4c80-86f4-7e050dac9dc8",
   "metadata": {},
   "outputs": [],
   "source": [
    "# output:\n",
    "\n",
    "# Matrix: [[54 20  9]\n",
    "#  [66 42 25]\n",
    "#  [65 75 45]]\n",
    "\n",
    "# Row with Maximum Sum (Index): 2\n",
    "# Maximum Value in that Row: 75"
   ]
  },
  {
   "cell_type": "code",
   "execution_count": null,
   "id": "3b66a356-5683-484a-ac1d-4afedf3915b2",
   "metadata": {},
   "outputs": [],
   "source": []
  },
  {
   "cell_type": "code",
   "execution_count": null,
   "id": "f7105f86-1763-47ec-a3d9-870f233eb642",
   "metadata": {},
   "outputs": [],
   "source": [
    "# 7. Linear Algebra \n",
    "# ● Question: Create two 2D arrays A and B, both of shape (2, 2), filled with random \n",
    "# integers. Compute the matrix multiplication of A and B using np.dot(). \n",
    "# ● Hint: Use np.random.randint() and np.dot()."
   ]
  },
  {
   "cell_type": "code",
   "execution_count": 17,
   "id": "3d64cd4a-b36d-481a-899f-8531a634dd50",
   "metadata": {},
   "outputs": [
    {
     "name": "stdout",
     "output_type": "stream",
     "text": [
      "Matrix A: [[5 1]\n",
      " [4 6]]\n",
      "\n",
      "Matrix B: [[8 7]\n",
      " [8 3]]\n",
      "\n",
      "Matrix Multiplication (A dot B): [[48 38]\n",
      " [80 46]]\n"
     ]
    }
   ],
   "source": [
    "A = np.random.randint(1, 11, size=(2, 2))\n",
    "B = np.random.randint(1, 11, size=(2, 2))\n",
    "result = np.dot(A, B)\n",
    "print(\"Matrix A:\",A)\n",
    "print(\"\\nMatrix B:\",B)\n",
    "print(\"\\nMatrix Multiplication (A dot B):\",result)"
   ]
  },
  {
   "cell_type": "code",
   "execution_count": null,
   "id": "9e579330-a117-4927-9930-cdff53e57dc3",
   "metadata": {},
   "outputs": [],
   "source": [
    "# output:\n",
    "# Matrix A: [[5 1]\n",
    "#  [4 6]]\n",
    "\n",
    "# Matrix B: [[8 7]\n",
    "#  [8 3]]\n",
    "\n",
    "# Matrix Multiplication (A dot B): [[48 38]\n",
    "#  [80 46]]"
   ]
  },
  {
   "cell_type": "code",
   "execution_count": null,
   "id": "e009d320-6e2f-4e39-b19f-b565a01fbbb4",
   "metadata": {},
   "outputs": [],
   "source": []
  },
  {
   "cell_type": "code",
   "execution_count": 18,
   "id": "4e07faeb-6fd0-47cc-af4f-1651351f4b7d",
   "metadata": {},
   "outputs": [],
   "source": [
    "# 8. Boolean Indexing \n",
    "# ● Question: Create an array of shape (6, 6) with random integers between 1 and 50. \n",
    "# Using boolean indexing, extract all values greater than 25. \n",
    "# ● Hint: Use boolean conditions like array > 25."
   ]
  },
  {
   "cell_type": "code",
   "execution_count": 19,
   "id": "325ab81f-0561-4187-94f4-7774492567c9",
   "metadata": {},
   "outputs": [
    {
     "name": "stdout",
     "output_type": "stream",
     "text": [
      "Original Array: [[20 18  5 13 22 37]\n",
      " [27  8 47 29 13 39]\n",
      " [23 50 23  3 49 26]\n",
      " [18 14  9 42 26  6]\n",
      " [33  8 11 39 27 47]\n",
      " [17 49 43 37 22  8]]\n",
      "\n",
      "Values Greater Than 25: [37 27 47 29 39 50 49 26 42 26 33 39 27 47 49 43 37]\n"
     ]
    }
   ],
   "source": [
    "array = np.random.randint(1, 51, size=(6, 6))\n",
    "values_greater_than_25 = array[array > 25]\n",
    "\n",
    "print(\"Original Array:\",array)\n",
    "print(\"\\nValues Greater Than 25:\",values_greater_than_25)"
   ]
  },
  {
   "cell_type": "code",
   "execution_count": 20,
   "id": "846a0125-3904-4ce5-8dc0-2fb7936e96ee",
   "metadata": {},
   "outputs": [],
   "source": [
    "# output:\n",
    "\n",
    "\n",
    "# Original Array: [[20 18  5 13 22 37]\n",
    "#  [27  8 47 29 13 39]\n",
    "#  [23 50 23  3 49 26]\n",
    "#  [18 14  9 42 26  6]\n",
    "#  [33  8 11 39 27 47]\n",
    "#  [17 49 43 37 22  8]]\n",
    "\n",
    "# Values Greater Than 25: [37 27 47 29 39 50 49 26 42 26 33 39 27 47 49 43 37]"
   ]
  },
  {
   "cell_type": "code",
   "execution_count": null,
   "id": "c51abb17-6f55-400d-9235-407a7564018d",
   "metadata": {},
   "outputs": [],
   "source": []
  },
  {
   "cell_type": "code",
   "execution_count": 22,
   "id": "e262282e-f360-419c-93c1-24105ab30407",
   "metadata": {},
   "outputs": [],
   "source": [
    "# 9. Statistics \n",
    "# ● Question: Create a 5x5 array of random floats between 0 and 1. Calculate the \n",
    "# median and variance along the columns and rows separately. \n",
    "# ● Hint: Use np.median() and np.var() with the axis parameter. "
   ]
  },
  {
   "cell_type": "code",
   "execution_count": 23,
   "id": "c16a488e-e893-4073-8fb4-65d65e4e2b7e",
   "metadata": {},
   "outputs": [
    {
     "name": "stdout",
     "output_type": "stream",
     "text": [
      "Array: [[0.85719375 0.24894146 0.05758433 0.22732627 0.50991127]\n",
      " [0.54436616 0.72990322 0.94045266 0.83078965 0.99838723]\n",
      " [0.5319726  0.6597536  0.28307224 0.55570352 0.32559736]\n",
      " [0.04093323 0.84040099 0.93970079 0.59635138 0.05707886]\n",
      " [0.2629381  0.62666384 0.16120272 0.18542908 0.70557806]]\n",
      "\n",
      "Median along columns: [0.5319726  0.6597536  0.28307224 0.55570352 0.50991127]\n",
      "Median along rows: [0.24894146 0.83078965 0.5319726  0.59635138 0.2629381 ]\n",
      "\n",
      "Variance along columns: [0.07674545 0.03999162 0.1484248  0.05858684 0.10309627]\n",
      "Variance along rows: [0.07780562 0.02598185 0.02059576 0.14505685 0.05318561]\n"
     ]
    }
   ],
   "source": [
    "array = np.random.rand(5, 5)\n",
    "median_columns = np.median(array, axis=0)\n",
    "median_rows = np.median(array, axis=1)\n",
    "variance_columns = np.var(array, axis=0)\n",
    "variance_rows = np.var(array, axis=1)\n",
    "\n",
    "print(\"Array:\",array)\n",
    "print(\"\\nMedian along columns:\", median_columns)\n",
    "print(\"Median along rows:\", median_rows)\n",
    "print(\"\\nVariance along columns:\", variance_columns)\n",
    "print(\"Variance along rows:\", variance_rows)\n"
   ]
  },
  {
   "cell_type": "code",
   "execution_count": 24,
   "id": "1c33f5a4-a4d9-456e-9d3f-23e1a0a9045e",
   "metadata": {},
   "outputs": [],
   "source": [
    "# output:\n",
    "\n",
    "# Array: [[0.85719375 0.24894146 0.05758433 0.22732627 0.50991127]\n",
    "#  [0.54436616 0.72990322 0.94045266 0.83078965 0.99838723]\n",
    "#  [0.5319726  0.6597536  0.28307224 0.55570352 0.32559736]\n",
    "#  [0.04093323 0.84040099 0.93970079 0.59635138 0.05707886]\n",
    "#  [0.2629381  0.62666384 0.16120272 0.18542908 0.70557806]]\n",
    "\n",
    "# Median along columns: [0.5319726  0.6597536  0.28307224 0.55570352 0.50991127]\n",
    "# Median along rows: [0.24894146 0.83078965 0.5319726  0.59635138 0.2629381 ]\n",
    "\n",
    "# Variance along columns: [0.07674545 0.03999162 0.1484248  0.05858684 0.10309627]\n",
    "# Variance along rows: [0.07780562 0.02598185 0.02059576 0.14505685 0.05318561]\n"
   ]
  },
  {
   "cell_type": "code",
   "execution_count": null,
   "id": "7e2cdfb6-159e-45a1-99d8-bade467cdb3b",
   "metadata": {},
   "outputs": [],
   "source": []
  },
  {
   "cell_type": "code",
   "execution_count": 25,
   "id": "401d12b1-dbe1-4cfb-983d-e46dfc3e9bb7",
   "metadata": {},
   "outputs": [],
   "source": [
    "# 10. Element-wise Operations \n",
    "# ● Question: Generate a 3x3 matrix of random integers between 1 and 10. Perform \n",
    "# the following element-wise operations: subtract 2 from each element, square each \n",
    "# element, and compute the reciprocal of each element. \n",
    "# ● Hint: Use standard arithmetic operations and np.reciprocal()."
   ]
  },
  {
   "cell_type": "code",
   "execution_count": 26,
   "id": "d3bda361-b51b-4d21-af3d-9de5a103af9b",
   "metadata": {},
   "outputs": [
    {
     "name": "stdout",
     "output_type": "stream",
     "text": [
      "Original Matrix: [[4 6 6]\n",
      " [3 8 8]\n",
      " [7 6 8]]\n",
      "\n",
      "Matrix After Subtracting 2: [[2 4 4]\n",
      " [1 6 6]\n",
      " [5 4 6]]\n",
      "\n",
      "Matrix After Squaring Each Element: [[16 36 36]\n",
      " [ 9 64 64]\n",
      " [49 36 64]]\n",
      "\n",
      "Reciprocal of Each Element: [[0.25       0.16666667 0.16666667]\n",
      " [0.33333333 0.125      0.125     ]\n",
      " [0.14285714 0.16666667 0.125     ]]\n"
     ]
    }
   ],
   "source": [
    "matrix = np.random.randint(1, 11, size=(3, 3))\n",
    "subtracted_matrix = matrix - 2\n",
    "squared_matrix = matrix ** 2\n",
    "reciprocal_matrix = 1 / matrix\n",
    "\n",
    "\n",
    "print(\"Original Matrix:\",matrix)\n",
    "print(\"\\nMatrix After Subtracting 2:\",subtracted_matrix)\n",
    "print(\"\\nMatrix After Squaring Each Element:\",squared_matrix)\n",
    "print(\"\\nReciprocal of Each Element:\",reciprocal_matrix)"
   ]
  },
  {
   "cell_type": "code",
   "execution_count": 27,
   "id": "12247603-abb5-499a-8eda-694f6521b8ff",
   "metadata": {},
   "outputs": [],
   "source": [
    "# output:\n",
    "\n",
    "# Original Matrix: [[4 6 6]\n",
    "#  [3 8 8]\n",
    "#  [7 6 8]]\n",
    "\n",
    "# Matrix After Subtracting 2: [[2 4 4]\n",
    "#  [1 6 6]\n",
    "#  [5 4 6]]\n",
    "\n",
    "# Matrix After Squaring Each Element: [[16 36 36]\n",
    "#  [ 9 64 64]\n",
    "#  [49 36 64]]\n",
    "\n",
    "# Reciprocal of Each Element: [[0.25       0.16666667 0.16666667]\n",
    "#  [0.33333333 0.125      0.125     ]\n",
    "#  [0.14285714 0.16666667 0.125     ]]"
   ]
  },
  {
   "cell_type": "code",
   "execution_count": null,
   "id": "c3279038-df08-4d5a-8374-b3d945c0fa90",
   "metadata": {},
   "outputs": [],
   "source": []
  },
  {
   "cell_type": "code",
   "execution_count": 28,
   "id": "7079b221-a8f9-43b8-b6ae-7519bf695e10",
   "metadata": {},
   "outputs": [],
   "source": [
    "# PANDAS PROBLEMS"
   ]
  },
  {
   "cell_type": "code",
   "execution_count": 29,
   "id": "4dabe522-ba37-42a4-97c7-4a8db8fd64c7",
   "metadata": {},
   "outputs": [],
   "source": [
    "data = pd.read_csv('auto-mpg.csv')"
   ]
  },
  {
   "cell_type": "code",
   "execution_count": null,
   "id": "7ad4e45d-1c81-44bf-baaf-7a7ae1a0f4ce",
   "metadata": {},
   "outputs": [],
   "source": [
    "# 1. Basic Exploration \n",
    "# Load the dataset into a Pandas DataFrame. Display: \n",
    "# ○ The first 10 rows \n",
    "# ○ The total number of rows and columns \n",
    "# ○ Summary statistics for numerical columns "
   ]
  },
  {
   "cell_type": "code",
   "execution_count": 32,
   "id": "c8123f86-1aa2-4746-a27d-b49aed5a4636",
   "metadata": {},
   "outputs": [
    {
     "name": "stdout",
     "output_type": "stream",
     "text": [
      "    mpg  cylinders  displacement horsepower  weight  acceleration  model year  \\\n",
      "0  18.0          8         307.0        130    3504          12.0          70   \n",
      "1  15.0          8         350.0        165    3693          11.5          70   \n",
      "2  18.0          8         318.0        150    3436          11.0          70   \n",
      "3  16.0          8         304.0        150    3433          12.0          70   \n",
      "4  17.0          8         302.0        140    3449          10.5          70   \n",
      "5  15.0          8         429.0        198    4341          10.0          70   \n",
      "6  14.0          8         454.0        220    4354           9.0          70   \n",
      "7  14.0          8         440.0        215    4312           8.5          70   \n",
      "8  14.0          8         455.0        225    4425          10.0          70   \n",
      "9  15.0          8         390.0        190    3850           8.5          70   \n",
      "\n",
      "   origin                   car name  \n",
      "0       1  chevrolet chevelle malibu  \n",
      "1       1          buick skylark 320  \n",
      "2       1         plymouth satellite  \n",
      "3       1              amc rebel sst  \n",
      "4       1                ford torino  \n",
      "5       1           ford galaxie 500  \n",
      "6       1           chevrolet impala  \n",
      "7       1          plymouth fury iii  \n",
      "8       1           pontiac catalina  \n",
      "9       1         amc ambassador dpl  \n"
     ]
    }
   ],
   "source": [
    "print(data.head(10)) "
   ]
  },
  {
   "cell_type": "code",
   "execution_count": 31,
   "id": "cf39b4f1-e232-473b-b927-d1d10567e79e",
   "metadata": {},
   "outputs": [
    {
     "data": {
      "text/plain": [
       "Index(['mpg', 'cylinders', 'displacement', 'horsepower', 'weight',\n",
       "       'acceleration', 'model year', 'origin', 'car name'],\n",
       "      dtype='object')"
      ]
     },
     "execution_count": 31,
     "metadata": {},
     "output_type": "execute_result"
    }
   ],
   "source": [
    "data.columns"
   ]
  },
  {
   "cell_type": "code",
   "execution_count": 33,
   "id": "312a3a5c-dcc7-422c-8e13-621c5896dcf5",
   "metadata": {},
   "outputs": [
    {
     "data": {
      "text/plain": [
       "(398, 9)"
      ]
     },
     "execution_count": 33,
     "metadata": {},
     "output_type": "execute_result"
    }
   ],
   "source": [
    "data.shape"
   ]
  },
  {
   "cell_type": "code",
   "execution_count": 34,
   "id": "7782de52-ca17-4668-8071-34b43c0d0630",
   "metadata": {},
   "outputs": [
    {
     "data": {
      "text/html": [
       "<div>\n",
       "<style scoped>\n",
       "    .dataframe tbody tr th:only-of-type {\n",
       "        vertical-align: middle;\n",
       "    }\n",
       "\n",
       "    .dataframe tbody tr th {\n",
       "        vertical-align: top;\n",
       "    }\n",
       "\n",
       "    .dataframe thead th {\n",
       "        text-align: right;\n",
       "    }\n",
       "</style>\n",
       "<table border=\"1\" class=\"dataframe\">\n",
       "  <thead>\n",
       "    <tr style=\"text-align: right;\">\n",
       "      <th></th>\n",
       "      <th>mpg</th>\n",
       "      <th>cylinders</th>\n",
       "      <th>displacement</th>\n",
       "      <th>weight</th>\n",
       "      <th>acceleration</th>\n",
       "      <th>model year</th>\n",
       "      <th>origin</th>\n",
       "    </tr>\n",
       "  </thead>\n",
       "  <tbody>\n",
       "    <tr>\n",
       "      <th>count</th>\n",
       "      <td>398.000000</td>\n",
       "      <td>398.000000</td>\n",
       "      <td>398.000000</td>\n",
       "      <td>398.000000</td>\n",
       "      <td>398.000000</td>\n",
       "      <td>398.000000</td>\n",
       "      <td>398.000000</td>\n",
       "    </tr>\n",
       "    <tr>\n",
       "      <th>mean</th>\n",
       "      <td>23.514573</td>\n",
       "      <td>5.454774</td>\n",
       "      <td>193.425879</td>\n",
       "      <td>2970.424623</td>\n",
       "      <td>15.568090</td>\n",
       "      <td>76.010050</td>\n",
       "      <td>1.572864</td>\n",
       "    </tr>\n",
       "    <tr>\n",
       "      <th>std</th>\n",
       "      <td>7.815984</td>\n",
       "      <td>1.701004</td>\n",
       "      <td>104.269838</td>\n",
       "      <td>846.841774</td>\n",
       "      <td>2.757689</td>\n",
       "      <td>3.697627</td>\n",
       "      <td>0.802055</td>\n",
       "    </tr>\n",
       "    <tr>\n",
       "      <th>min</th>\n",
       "      <td>9.000000</td>\n",
       "      <td>3.000000</td>\n",
       "      <td>68.000000</td>\n",
       "      <td>1613.000000</td>\n",
       "      <td>8.000000</td>\n",
       "      <td>70.000000</td>\n",
       "      <td>1.000000</td>\n",
       "    </tr>\n",
       "    <tr>\n",
       "      <th>25%</th>\n",
       "      <td>17.500000</td>\n",
       "      <td>4.000000</td>\n",
       "      <td>104.250000</td>\n",
       "      <td>2223.750000</td>\n",
       "      <td>13.825000</td>\n",
       "      <td>73.000000</td>\n",
       "      <td>1.000000</td>\n",
       "    </tr>\n",
       "    <tr>\n",
       "      <th>50%</th>\n",
       "      <td>23.000000</td>\n",
       "      <td>4.000000</td>\n",
       "      <td>148.500000</td>\n",
       "      <td>2803.500000</td>\n",
       "      <td>15.500000</td>\n",
       "      <td>76.000000</td>\n",
       "      <td>1.000000</td>\n",
       "    </tr>\n",
       "    <tr>\n",
       "      <th>75%</th>\n",
       "      <td>29.000000</td>\n",
       "      <td>8.000000</td>\n",
       "      <td>262.000000</td>\n",
       "      <td>3608.000000</td>\n",
       "      <td>17.175000</td>\n",
       "      <td>79.000000</td>\n",
       "      <td>2.000000</td>\n",
       "    </tr>\n",
       "    <tr>\n",
       "      <th>max</th>\n",
       "      <td>46.600000</td>\n",
       "      <td>8.000000</td>\n",
       "      <td>455.000000</td>\n",
       "      <td>5140.000000</td>\n",
       "      <td>24.800000</td>\n",
       "      <td>82.000000</td>\n",
       "      <td>3.000000</td>\n",
       "    </tr>\n",
       "  </tbody>\n",
       "</table>\n",
       "</div>"
      ],
      "text/plain": [
       "              mpg   cylinders  displacement       weight  acceleration  \\\n",
       "count  398.000000  398.000000    398.000000   398.000000    398.000000   \n",
       "mean    23.514573    5.454774    193.425879  2970.424623     15.568090   \n",
       "std      7.815984    1.701004    104.269838   846.841774      2.757689   \n",
       "min      9.000000    3.000000     68.000000  1613.000000      8.000000   \n",
       "25%     17.500000    4.000000    104.250000  2223.750000     13.825000   \n",
       "50%     23.000000    4.000000    148.500000  2803.500000     15.500000   \n",
       "75%     29.000000    8.000000    262.000000  3608.000000     17.175000   \n",
       "max     46.600000    8.000000    455.000000  5140.000000     24.800000   \n",
       "\n",
       "       model year      origin  \n",
       "count  398.000000  398.000000  \n",
       "mean    76.010050    1.572864  \n",
       "std      3.697627    0.802055  \n",
       "min     70.000000    1.000000  \n",
       "25%     73.000000    1.000000  \n",
       "50%     76.000000    1.000000  \n",
       "75%     79.000000    2.000000  \n",
       "max     82.000000    3.000000  "
      ]
     },
     "execution_count": 34,
     "metadata": {},
     "output_type": "execute_result"
    }
   ],
   "source": [
    "data.describe()"
   ]
  },
  {
   "cell_type": "code",
   "execution_count": null,
   "id": "800c9785-49fd-4932-8991-2fbf0d4f7f06",
   "metadata": {},
   "outputs": [],
   "source": []
  },
  {
   "cell_type": "code",
   "execution_count": 35,
   "id": "0860b644-2155-43ec-8558-f27ca482443f",
   "metadata": {},
   "outputs": [],
   "source": [
    "# 2. Filtering and Indexing \n",
    "# Find all cars manufactured in 1975 with a weight less than 3000. Return the  DataFrame with selected columns: car_name, weight, and mpg."
   ]
  },
  {
   "cell_type": "code",
   "execution_count": 39,
   "id": "5f444e26-7b4e-440a-bcec-b865acefd78c",
   "metadata": {},
   "outputs": [
    {
     "data": {
      "text/html": [
       "<div>\n",
       "<style scoped>\n",
       "    .dataframe tbody tr th:only-of-type {\n",
       "        vertical-align: middle;\n",
       "    }\n",
       "\n",
       "    .dataframe tbody tr th {\n",
       "        vertical-align: top;\n",
       "    }\n",
       "\n",
       "    .dataframe thead th {\n",
       "        text-align: right;\n",
       "    }\n",
       "</style>\n",
       "<table border=\"1\" class=\"dataframe\">\n",
       "  <thead>\n",
       "    <tr style=\"text-align: right;\">\n",
       "      <th></th>\n",
       "      <th>mpg</th>\n",
       "      <th>cylinders</th>\n",
       "      <th>displacement</th>\n",
       "      <th>horsepower</th>\n",
       "      <th>weight</th>\n",
       "      <th>acceleration</th>\n",
       "      <th>model year</th>\n",
       "      <th>origin</th>\n",
       "      <th>car name</th>\n",
       "    </tr>\n",
       "  </thead>\n",
       "  <tbody>\n",
       "  </tbody>\n",
       "</table>\n",
       "</div>"
      ],
      "text/plain": [
       "Empty DataFrame\n",
       "Columns: [mpg, cylinders, displacement, horsepower, weight, acceleration, model year, origin, car name]\n",
       "Index: []"
      ]
     },
     "execution_count": 39,
     "metadata": {},
     "output_type": "execute_result"
    }
   ],
   "source": [
    "filtered_data = data[(data['model year'] == 1975) & (data['weight'] < 3000)]\n",
    "filtered_data"
   ]
  },
  {
   "cell_type": "code",
   "execution_count": 43,
   "id": "55156c0c-13ac-4cf9-b6b4-8295b82a30cf",
   "metadata": {},
   "outputs": [
    {
     "data": {
      "text/html": [
       "<div>\n",
       "<style scoped>\n",
       "    .dataframe tbody tr th:only-of-type {\n",
       "        vertical-align: middle;\n",
       "    }\n",
       "\n",
       "    .dataframe tbody tr th {\n",
       "        vertical-align: top;\n",
       "    }\n",
       "\n",
       "    .dataframe thead th {\n",
       "        text-align: right;\n",
       "    }\n",
       "</style>\n",
       "<table border=\"1\" class=\"dataframe\">\n",
       "  <thead>\n",
       "    <tr style=\"text-align: right;\">\n",
       "      <th></th>\n",
       "      <th>cylinders</th>\n",
       "      <th>weight</th>\n",
       "      <th>mpg</th>\n",
       "    </tr>\n",
       "  </thead>\n",
       "  <tbody>\n",
       "  </tbody>\n",
       "</table>\n",
       "</div>"
      ],
      "text/plain": [
       "Empty DataFrame\n",
       "Columns: [cylinders, weight, mpg]\n",
       "Index: []"
      ]
     },
     "execution_count": 43,
     "metadata": {},
     "output_type": "execute_result"
    }
   ],
   "source": [
    "result = filtered_data[['cylinders', 'weight', 'mpg']]\n",
    "result\n"
   ]
  },
  {
   "cell_type": "code",
   "execution_count": null,
   "id": "1aa2ed0c-e1ee-4aa7-a962-f3a1f886d2c2",
   "metadata": {},
   "outputs": [],
   "source": []
  },
  {
   "cell_type": "code",
   "execution_count": 45,
   "id": "a52993c7-f307-4623-8c60-67c67e120898",
   "metadata": {},
   "outputs": [],
   "source": [
    "# 3. Handling Missing Data \n",
    "# Identify if there are any missing values in the dataset. Replace missing values in the \n",
    "# horsepower column with the column's median."
   ]
  },
  {
   "cell_type": "code",
   "execution_count": 46,
   "id": "27eea007-64f5-4b13-af6d-811c12dc6e28",
   "metadata": {},
   "outputs": [
    {
     "name": "stdout",
     "output_type": "stream",
     "text": [
      "Missing values in each column:\n",
      "mpg             0\n",
      "cylinders       0\n",
      "displacement    0\n",
      "horsepower      0\n",
      "weight          0\n",
      "acceleration    0\n",
      "model year      0\n",
      "origin          0\n",
      "car name        0\n",
      "dtype: int64\n"
     ]
    }
   ],
   "source": [
    "print(\"Missing values in each column:\")\n",
    "print(data.isnull().sum())\n"
   ]
  },
  {
   "cell_type": "code",
   "execution_count": 51,
   "id": "75181b18-c452-452c-b654-b83c9b2168d2",
   "metadata": {},
   "outputs": [
    {
     "name": "stdout",
     "output_type": "stream",
     "text": [
      "Missing values in 'horsepower': 6\n"
     ]
    }
   ],
   "source": [
    "data['horsepower'] = pd.to_numeric(data['horsepower'], errors='coerce')\n",
    "print(\"Missing values in 'horsepower':\", data['horsepower'].isnull().sum())\n",
    "\n",
    "\n"
   ]
  },
  {
   "cell_type": "code",
   "execution_count": 54,
   "id": "ceb8de2a-9f23-4af0-9eed-520c26e6ad63",
   "metadata": {},
   "outputs": [
    {
     "name": "stdout",
     "output_type": "stream",
     "text": [
      "0\n"
     ]
    }
   ],
   "source": [
    "horsepower_median = data['horsepower'].median()\n",
    "print(data['horsepower'].isnull().sum())"
   ]
  },
  {
   "cell_type": "code",
   "execution_count": null,
   "id": "347b703b-156a-4a0f-9f27-288cde828570",
   "metadata": {},
   "outputs": [],
   "source": []
  },
  {
   "cell_type": "code",
   "execution_count": 55,
   "id": "a5209c41-45eb-4dce-b41e-06d3c8fd0c7c",
   "metadata": {},
   "outputs": [],
   "source": [
    "# 4. Data Transformation \n",
    "# Add a new column power_to_weight_ratio, calculated as horsepower / weight."
   ]
  },
  {
   "cell_type": "code",
   "execution_count": 58,
   "id": "03af54ad-d018-4429-8747-c1aa9e66134c",
   "metadata": {},
   "outputs": [
    {
     "name": "stdout",
     "output_type": "stream",
     "text": [
      "    mpg  horsepower  weight  power_to_weight_ratio\n",
      "0  18.0       130.0    3504               0.037100\n",
      "1  15.0       165.0    3693               0.044679\n",
      "2  18.0       150.0    3436               0.043655\n",
      "3  16.0       150.0    3433               0.043694\n",
      "4  17.0       140.0    3449               0.040591\n"
     ]
    }
   ],
   "source": [
    "data['power_to_weight_ratio'] = data['horsepower'] / data['weight']\n",
    "print(data[['mpg', 'horsepower', 'weight', 'power_to_weight_ratio']].head())\n"
   ]
  },
  {
   "cell_type": "code",
   "execution_count": null,
   "id": "41ada908-97d2-4b1a-8a9a-c24bbb79a101",
   "metadata": {},
   "outputs": [],
   "source": []
  },
  {
   "cell_type": "code",
   "execution_count": 59,
   "id": "dc02c066-034e-40a0-baa1-d22787f7d808",
   "metadata": {},
   "outputs": [],
   "source": [
    "# 5. Group By \n",
    "# Group the cars by origin and calculate the mean mpg for each group\n"
   ]
  },
  {
   "cell_type": "code",
   "execution_count": 62,
   "id": "2515d307-a517-428b-bd98-6691ebe1c73b",
   "metadata": {},
   "outputs": [
    {
     "data": {
      "text/plain": [
       "origin\n",
       "1    20.083534\n",
       "2    27.891429\n",
       "3    30.450633\n",
       "Name: mpg, dtype: float64"
      ]
     },
     "execution_count": 62,
     "metadata": {},
     "output_type": "execute_result"
    }
   ],
   "source": [
    "mean_mpg = data.groupby('origin')['mpg'].mean()\n",
    "mean_mpg"
   ]
  },
  {
   "cell_type": "code",
   "execution_count": null,
   "id": "eac665f4-b988-4844-bc0a-c03435f3ea72",
   "metadata": {},
   "outputs": [],
   "source": []
  },
  {
   "cell_type": "code",
   "execution_count": 63,
   "id": "4602bc8e-6c42-490e-8020-ea4747a55052",
   "metadata": {},
   "outputs": [],
   "source": [
    "# 6. Sorting \n",
    "# Sort the DataFrame by mpg in descending order and display the top 10 cars with the highest mpg. \n",
    "# Apply Function \n",
    "# Create a new column performance_score using a custom function: \n",
    "# def performance_score(row): \n",
    "# return row['mpg'] * row['acceleration'] / row['weight'] "
   ]
  },
  {
   "cell_type": "code",
   "execution_count": 66,
   "id": "37d26802-2874-479b-b4ba-a1a90ee6e19a",
   "metadata": {},
   "outputs": [
    {
     "data": {
      "text/html": [
       "<div>\n",
       "<style scoped>\n",
       "    .dataframe tbody tr th:only-of-type {\n",
       "        vertical-align: middle;\n",
       "    }\n",
       "\n",
       "    .dataframe tbody tr th {\n",
       "        vertical-align: top;\n",
       "    }\n",
       "\n",
       "    .dataframe thead th {\n",
       "        text-align: right;\n",
       "    }\n",
       "</style>\n",
       "<table border=\"1\" class=\"dataframe\">\n",
       "  <thead>\n",
       "    <tr style=\"text-align: right;\">\n",
       "      <th></th>\n",
       "      <th>mpg</th>\n",
       "      <th>cylinders</th>\n",
       "      <th>displacement</th>\n",
       "      <th>horsepower</th>\n",
       "      <th>weight</th>\n",
       "      <th>acceleration</th>\n",
       "      <th>model year</th>\n",
       "      <th>origin</th>\n",
       "      <th>car name</th>\n",
       "      <th>power_to_weight_ratio</th>\n",
       "    </tr>\n",
       "  </thead>\n",
       "  <tbody>\n",
       "    <tr>\n",
       "      <th>322</th>\n",
       "      <td>46.6</td>\n",
       "      <td>4</td>\n",
       "      <td>86.0</td>\n",
       "      <td>65.0</td>\n",
       "      <td>2110</td>\n",
       "      <td>17.9</td>\n",
       "      <td>80</td>\n",
       "      <td>3</td>\n",
       "      <td>mazda glc</td>\n",
       "      <td>0.030806</td>\n",
       "    </tr>\n",
       "    <tr>\n",
       "      <th>329</th>\n",
       "      <td>44.6</td>\n",
       "      <td>4</td>\n",
       "      <td>91.0</td>\n",
       "      <td>67.0</td>\n",
       "      <td>1850</td>\n",
       "      <td>13.8</td>\n",
       "      <td>80</td>\n",
       "      <td>3</td>\n",
       "      <td>honda civic 1500 gl</td>\n",
       "      <td>0.036216</td>\n",
       "    </tr>\n",
       "    <tr>\n",
       "      <th>325</th>\n",
       "      <td>44.3</td>\n",
       "      <td>4</td>\n",
       "      <td>90.0</td>\n",
       "      <td>48.0</td>\n",
       "      <td>2085</td>\n",
       "      <td>21.7</td>\n",
       "      <td>80</td>\n",
       "      <td>2</td>\n",
       "      <td>vw rabbit c (diesel)</td>\n",
       "      <td>0.023022</td>\n",
       "    </tr>\n",
       "    <tr>\n",
       "      <th>394</th>\n",
       "      <td>44.0</td>\n",
       "      <td>4</td>\n",
       "      <td>97.0</td>\n",
       "      <td>52.0</td>\n",
       "      <td>2130</td>\n",
       "      <td>24.6</td>\n",
       "      <td>82</td>\n",
       "      <td>2</td>\n",
       "      <td>vw pickup</td>\n",
       "      <td>0.024413</td>\n",
       "    </tr>\n",
       "    <tr>\n",
       "      <th>326</th>\n",
       "      <td>43.4</td>\n",
       "      <td>4</td>\n",
       "      <td>90.0</td>\n",
       "      <td>48.0</td>\n",
       "      <td>2335</td>\n",
       "      <td>23.7</td>\n",
       "      <td>80</td>\n",
       "      <td>2</td>\n",
       "      <td>vw dasher (diesel)</td>\n",
       "      <td>0.020557</td>\n",
       "    </tr>\n",
       "    <tr>\n",
       "      <th>244</th>\n",
       "      <td>43.1</td>\n",
       "      <td>4</td>\n",
       "      <td>90.0</td>\n",
       "      <td>48.0</td>\n",
       "      <td>1985</td>\n",
       "      <td>21.5</td>\n",
       "      <td>78</td>\n",
       "      <td>2</td>\n",
       "      <td>volkswagen rabbit custom diesel</td>\n",
       "      <td>0.024181</td>\n",
       "    </tr>\n",
       "    <tr>\n",
       "      <th>309</th>\n",
       "      <td>41.5</td>\n",
       "      <td>4</td>\n",
       "      <td>98.0</td>\n",
       "      <td>76.0</td>\n",
       "      <td>2144</td>\n",
       "      <td>14.7</td>\n",
       "      <td>80</td>\n",
       "      <td>2</td>\n",
       "      <td>vw rabbit</td>\n",
       "      <td>0.035448</td>\n",
       "    </tr>\n",
       "    <tr>\n",
       "      <th>330</th>\n",
       "      <td>40.9</td>\n",
       "      <td>4</td>\n",
       "      <td>85.0</td>\n",
       "      <td>93.5</td>\n",
       "      <td>1835</td>\n",
       "      <td>17.3</td>\n",
       "      <td>80</td>\n",
       "      <td>2</td>\n",
       "      <td>renault lecar deluxe</td>\n",
       "      <td>0.050954</td>\n",
       "    </tr>\n",
       "    <tr>\n",
       "      <th>324</th>\n",
       "      <td>40.8</td>\n",
       "      <td>4</td>\n",
       "      <td>85.0</td>\n",
       "      <td>65.0</td>\n",
       "      <td>2110</td>\n",
       "      <td>19.2</td>\n",
       "      <td>80</td>\n",
       "      <td>3</td>\n",
       "      <td>datsun 210</td>\n",
       "      <td>0.030806</td>\n",
       "    </tr>\n",
       "    <tr>\n",
       "      <th>247</th>\n",
       "      <td>39.4</td>\n",
       "      <td>4</td>\n",
       "      <td>85.0</td>\n",
       "      <td>70.0</td>\n",
       "      <td>2070</td>\n",
       "      <td>18.6</td>\n",
       "      <td>78</td>\n",
       "      <td>3</td>\n",
       "      <td>datsun b210 gx</td>\n",
       "      <td>0.033816</td>\n",
       "    </tr>\n",
       "  </tbody>\n",
       "</table>\n",
       "</div>"
      ],
      "text/plain": [
       "      mpg  cylinders  displacement  horsepower  weight  acceleration  \\\n",
       "322  46.6          4          86.0        65.0    2110          17.9   \n",
       "329  44.6          4          91.0        67.0    1850          13.8   \n",
       "325  44.3          4          90.0        48.0    2085          21.7   \n",
       "394  44.0          4          97.0        52.0    2130          24.6   \n",
       "326  43.4          4          90.0        48.0    2335          23.7   \n",
       "244  43.1          4          90.0        48.0    1985          21.5   \n",
       "309  41.5          4          98.0        76.0    2144          14.7   \n",
       "330  40.9          4          85.0        93.5    1835          17.3   \n",
       "324  40.8          4          85.0        65.0    2110          19.2   \n",
       "247  39.4          4          85.0        70.0    2070          18.6   \n",
       "\n",
       "     model year  origin                         car name  \\\n",
       "322          80       3                        mazda glc   \n",
       "329          80       3              honda civic 1500 gl   \n",
       "325          80       2             vw rabbit c (diesel)   \n",
       "394          82       2                        vw pickup   \n",
       "326          80       2               vw dasher (diesel)   \n",
       "244          78       2  volkswagen rabbit custom diesel   \n",
       "309          80       2                        vw rabbit   \n",
       "330          80       2             renault lecar deluxe   \n",
       "324          80       3                       datsun 210   \n",
       "247          78       3                   datsun b210 gx   \n",
       "\n",
       "     power_to_weight_ratio  \n",
       "322               0.030806  \n",
       "329               0.036216  \n",
       "325               0.023022  \n",
       "394               0.024413  \n",
       "326               0.020557  \n",
       "244               0.024181  \n",
       "309               0.035448  \n",
       "330               0.050954  \n",
       "324               0.030806  \n",
       "247               0.033816  "
      ]
     },
     "execution_count": 66,
     "metadata": {},
     "output_type": "execute_result"
    }
   ],
   "source": [
    "\n",
    "top_10_cars = data.sort_values(by='mpg', ascending=False).head(10)\n",
    "top_10_cars\n"
   ]
  },
  {
   "cell_type": "code",
   "execution_count": 69,
   "id": "c0362736-7b9d-4e0b-9fd8-81bb29e45668",
   "metadata": {},
   "outputs": [
    {
     "data": {
      "text/html": [
       "<div>\n",
       "<style scoped>\n",
       "    .dataframe tbody tr th:only-of-type {\n",
       "        vertical-align: middle;\n",
       "    }\n",
       "\n",
       "    .dataframe tbody tr th {\n",
       "        vertical-align: top;\n",
       "    }\n",
       "\n",
       "    .dataframe thead th {\n",
       "        text-align: right;\n",
       "    }\n",
       "</style>\n",
       "<table border=\"1\" class=\"dataframe\">\n",
       "  <thead>\n",
       "    <tr style=\"text-align: right;\">\n",
       "      <th></th>\n",
       "      <th>mpg</th>\n",
       "      <th>cylinders</th>\n",
       "      <th>displacement</th>\n",
       "      <th>horsepower</th>\n",
       "      <th>weight</th>\n",
       "      <th>acceleration</th>\n",
       "      <th>model year</th>\n",
       "      <th>origin</th>\n",
       "      <th>car name</th>\n",
       "      <th>power_to_weight_ratio</th>\n",
       "      <th>performance_score</th>\n",
       "    </tr>\n",
       "  </thead>\n",
       "  <tbody>\n",
       "    <tr>\n",
       "      <th>0</th>\n",
       "      <td>18.0</td>\n",
       "      <td>8</td>\n",
       "      <td>307.0</td>\n",
       "      <td>130.0</td>\n",
       "      <td>3504</td>\n",
       "      <td>12.0</td>\n",
       "      <td>70</td>\n",
       "      <td>1</td>\n",
       "      <td>chevrolet chevelle malibu</td>\n",
       "      <td>0.037100</td>\n",
       "      <td>0.061644</td>\n",
       "    </tr>\n",
       "    <tr>\n",
       "      <th>1</th>\n",
       "      <td>15.0</td>\n",
       "      <td>8</td>\n",
       "      <td>350.0</td>\n",
       "      <td>165.0</td>\n",
       "      <td>3693</td>\n",
       "      <td>11.5</td>\n",
       "      <td>70</td>\n",
       "      <td>1</td>\n",
       "      <td>buick skylark 320</td>\n",
       "      <td>0.044679</td>\n",
       "      <td>0.046710</td>\n",
       "    </tr>\n",
       "    <tr>\n",
       "      <th>2</th>\n",
       "      <td>18.0</td>\n",
       "      <td>8</td>\n",
       "      <td>318.0</td>\n",
       "      <td>150.0</td>\n",
       "      <td>3436</td>\n",
       "      <td>11.0</td>\n",
       "      <td>70</td>\n",
       "      <td>1</td>\n",
       "      <td>plymouth satellite</td>\n",
       "      <td>0.043655</td>\n",
       "      <td>0.057625</td>\n",
       "    </tr>\n",
       "    <tr>\n",
       "      <th>3</th>\n",
       "      <td>16.0</td>\n",
       "      <td>8</td>\n",
       "      <td>304.0</td>\n",
       "      <td>150.0</td>\n",
       "      <td>3433</td>\n",
       "      <td>12.0</td>\n",
       "      <td>70</td>\n",
       "      <td>1</td>\n",
       "      <td>amc rebel sst</td>\n",
       "      <td>0.043694</td>\n",
       "      <td>0.055928</td>\n",
       "    </tr>\n",
       "    <tr>\n",
       "      <th>4</th>\n",
       "      <td>17.0</td>\n",
       "      <td>8</td>\n",
       "      <td>302.0</td>\n",
       "      <td>140.0</td>\n",
       "      <td>3449</td>\n",
       "      <td>10.5</td>\n",
       "      <td>70</td>\n",
       "      <td>1</td>\n",
       "      <td>ford torino</td>\n",
       "      <td>0.040591</td>\n",
       "      <td>0.051754</td>\n",
       "    </tr>\n",
       "    <tr>\n",
       "      <th>...</th>\n",
       "      <td>...</td>\n",
       "      <td>...</td>\n",
       "      <td>...</td>\n",
       "      <td>...</td>\n",
       "      <td>...</td>\n",
       "      <td>...</td>\n",
       "      <td>...</td>\n",
       "      <td>...</td>\n",
       "      <td>...</td>\n",
       "      <td>...</td>\n",
       "      <td>...</td>\n",
       "    </tr>\n",
       "    <tr>\n",
       "      <th>393</th>\n",
       "      <td>27.0</td>\n",
       "      <td>4</td>\n",
       "      <td>140.0</td>\n",
       "      <td>86.0</td>\n",
       "      <td>2790</td>\n",
       "      <td>15.6</td>\n",
       "      <td>82</td>\n",
       "      <td>1</td>\n",
       "      <td>ford mustang gl</td>\n",
       "      <td>0.030824</td>\n",
       "      <td>0.150968</td>\n",
       "    </tr>\n",
       "    <tr>\n",
       "      <th>394</th>\n",
       "      <td>44.0</td>\n",
       "      <td>4</td>\n",
       "      <td>97.0</td>\n",
       "      <td>52.0</td>\n",
       "      <td>2130</td>\n",
       "      <td>24.6</td>\n",
       "      <td>82</td>\n",
       "      <td>2</td>\n",
       "      <td>vw pickup</td>\n",
       "      <td>0.024413</td>\n",
       "      <td>0.508169</td>\n",
       "    </tr>\n",
       "    <tr>\n",
       "      <th>395</th>\n",
       "      <td>32.0</td>\n",
       "      <td>4</td>\n",
       "      <td>135.0</td>\n",
       "      <td>84.0</td>\n",
       "      <td>2295</td>\n",
       "      <td>11.6</td>\n",
       "      <td>82</td>\n",
       "      <td>1</td>\n",
       "      <td>dodge rampage</td>\n",
       "      <td>0.036601</td>\n",
       "      <td>0.161743</td>\n",
       "    </tr>\n",
       "    <tr>\n",
       "      <th>396</th>\n",
       "      <td>28.0</td>\n",
       "      <td>4</td>\n",
       "      <td>120.0</td>\n",
       "      <td>79.0</td>\n",
       "      <td>2625</td>\n",
       "      <td>18.6</td>\n",
       "      <td>82</td>\n",
       "      <td>1</td>\n",
       "      <td>ford ranger</td>\n",
       "      <td>0.030095</td>\n",
       "      <td>0.198400</td>\n",
       "    </tr>\n",
       "    <tr>\n",
       "      <th>397</th>\n",
       "      <td>31.0</td>\n",
       "      <td>4</td>\n",
       "      <td>119.0</td>\n",
       "      <td>82.0</td>\n",
       "      <td>2720</td>\n",
       "      <td>19.4</td>\n",
       "      <td>82</td>\n",
       "      <td>1</td>\n",
       "      <td>chevy s-10</td>\n",
       "      <td>0.030147</td>\n",
       "      <td>0.221103</td>\n",
       "    </tr>\n",
       "  </tbody>\n",
       "</table>\n",
       "<p>398 rows × 11 columns</p>\n",
       "</div>"
      ],
      "text/plain": [
       "      mpg  cylinders  displacement  horsepower  weight  acceleration  \\\n",
       "0    18.0          8         307.0       130.0    3504          12.0   \n",
       "1    15.0          8         350.0       165.0    3693          11.5   \n",
       "2    18.0          8         318.0       150.0    3436          11.0   \n",
       "3    16.0          8         304.0       150.0    3433          12.0   \n",
       "4    17.0          8         302.0       140.0    3449          10.5   \n",
       "..    ...        ...           ...         ...     ...           ...   \n",
       "393  27.0          4         140.0        86.0    2790          15.6   \n",
       "394  44.0          4          97.0        52.0    2130          24.6   \n",
       "395  32.0          4         135.0        84.0    2295          11.6   \n",
       "396  28.0          4         120.0        79.0    2625          18.6   \n",
       "397  31.0          4         119.0        82.0    2720          19.4   \n",
       "\n",
       "     model year  origin                   car name  power_to_weight_ratio  \\\n",
       "0            70       1  chevrolet chevelle malibu               0.037100   \n",
       "1            70       1          buick skylark 320               0.044679   \n",
       "2            70       1         plymouth satellite               0.043655   \n",
       "3            70       1              amc rebel sst               0.043694   \n",
       "4            70       1                ford torino               0.040591   \n",
       "..          ...     ...                        ...                    ...   \n",
       "393          82       1            ford mustang gl               0.030824   \n",
       "394          82       2                  vw pickup               0.024413   \n",
       "395          82       1              dodge rampage               0.036601   \n",
       "396          82       1                ford ranger               0.030095   \n",
       "397          82       1                 chevy s-10               0.030147   \n",
       "\n",
       "     performance_score  \n",
       "0             0.061644  \n",
       "1             0.046710  \n",
       "2             0.057625  \n",
       "3             0.055928  \n",
       "4             0.051754  \n",
       "..                 ...  \n",
       "393           0.150968  \n",
       "394           0.508169  \n",
       "395           0.161743  \n",
       "396           0.198400  \n",
       "397           0.221103  \n",
       "\n",
       "[398 rows x 11 columns]"
      ]
     },
     "execution_count": 69,
     "metadata": {},
     "output_type": "execute_result"
    }
   ],
   "source": [
    "def performance_score(row):\n",
    "    return row['mpg'] * row['acceleration'] / row['weight']\n",
    "\n",
    "data['performance_score'] = data.apply(performance_score, axis=1)\n",
    "data\n"
   ]
  },
  {
   "cell_type": "code",
   "execution_count": 70,
   "id": "226d83d4-c6a2-4b6e-aaa6-c49ad760afa2",
   "metadata": {},
   "outputs": [],
   "source": [
    "# 7. Apply this function to each row and store the result in the new column."
   ]
  },
  {
   "cell_type": "code",
   "execution_count": 72,
   "id": "0c2e6cb9-9b1d-4321-8e2e-841f7fa94fc5",
   "metadata": {},
   "outputs": [
    {
     "data": {
      "text/html": [
       "<div>\n",
       "<style scoped>\n",
       "    .dataframe tbody tr th:only-of-type {\n",
       "        vertical-align: middle;\n",
       "    }\n",
       "\n",
       "    .dataframe tbody tr th {\n",
       "        vertical-align: top;\n",
       "    }\n",
       "\n",
       "    .dataframe thead th {\n",
       "        text-align: right;\n",
       "    }\n",
       "</style>\n",
       "<table border=\"1\" class=\"dataframe\">\n",
       "  <thead>\n",
       "    <tr style=\"text-align: right;\">\n",
       "      <th></th>\n",
       "      <th>mpg</th>\n",
       "      <th>cylinders</th>\n",
       "      <th>displacement</th>\n",
       "      <th>horsepower</th>\n",
       "      <th>weight</th>\n",
       "      <th>acceleration</th>\n",
       "      <th>model year</th>\n",
       "      <th>origin</th>\n",
       "      <th>car name</th>\n",
       "      <th>power_to_weight_ratio</th>\n",
       "      <th>performance_score</th>\n",
       "    </tr>\n",
       "  </thead>\n",
       "  <tbody>\n",
       "    <tr>\n",
       "      <th>0</th>\n",
       "      <td>18.0</td>\n",
       "      <td>8</td>\n",
       "      <td>307.0</td>\n",
       "      <td>130.0</td>\n",
       "      <td>3504</td>\n",
       "      <td>12.0</td>\n",
       "      <td>70</td>\n",
       "      <td>1</td>\n",
       "      <td>chevrolet chevelle malibu</td>\n",
       "      <td>0.037100</td>\n",
       "      <td>0.061644</td>\n",
       "    </tr>\n",
       "    <tr>\n",
       "      <th>1</th>\n",
       "      <td>15.0</td>\n",
       "      <td>8</td>\n",
       "      <td>350.0</td>\n",
       "      <td>165.0</td>\n",
       "      <td>3693</td>\n",
       "      <td>11.5</td>\n",
       "      <td>70</td>\n",
       "      <td>1</td>\n",
       "      <td>buick skylark 320</td>\n",
       "      <td>0.044679</td>\n",
       "      <td>0.046710</td>\n",
       "    </tr>\n",
       "    <tr>\n",
       "      <th>2</th>\n",
       "      <td>18.0</td>\n",
       "      <td>8</td>\n",
       "      <td>318.0</td>\n",
       "      <td>150.0</td>\n",
       "      <td>3436</td>\n",
       "      <td>11.0</td>\n",
       "      <td>70</td>\n",
       "      <td>1</td>\n",
       "      <td>plymouth satellite</td>\n",
       "      <td>0.043655</td>\n",
       "      <td>0.057625</td>\n",
       "    </tr>\n",
       "    <tr>\n",
       "      <th>3</th>\n",
       "      <td>16.0</td>\n",
       "      <td>8</td>\n",
       "      <td>304.0</td>\n",
       "      <td>150.0</td>\n",
       "      <td>3433</td>\n",
       "      <td>12.0</td>\n",
       "      <td>70</td>\n",
       "      <td>1</td>\n",
       "      <td>amc rebel sst</td>\n",
       "      <td>0.043694</td>\n",
       "      <td>0.055928</td>\n",
       "    </tr>\n",
       "    <tr>\n",
       "      <th>4</th>\n",
       "      <td>17.0</td>\n",
       "      <td>8</td>\n",
       "      <td>302.0</td>\n",
       "      <td>140.0</td>\n",
       "      <td>3449</td>\n",
       "      <td>10.5</td>\n",
       "      <td>70</td>\n",
       "      <td>1</td>\n",
       "      <td>ford torino</td>\n",
       "      <td>0.040591</td>\n",
       "      <td>0.051754</td>\n",
       "    </tr>\n",
       "    <tr>\n",
       "      <th>...</th>\n",
       "      <td>...</td>\n",
       "      <td>...</td>\n",
       "      <td>...</td>\n",
       "      <td>...</td>\n",
       "      <td>...</td>\n",
       "      <td>...</td>\n",
       "      <td>...</td>\n",
       "      <td>...</td>\n",
       "      <td>...</td>\n",
       "      <td>...</td>\n",
       "      <td>...</td>\n",
       "    </tr>\n",
       "    <tr>\n",
       "      <th>393</th>\n",
       "      <td>27.0</td>\n",
       "      <td>4</td>\n",
       "      <td>140.0</td>\n",
       "      <td>86.0</td>\n",
       "      <td>2790</td>\n",
       "      <td>15.6</td>\n",
       "      <td>82</td>\n",
       "      <td>1</td>\n",
       "      <td>ford mustang gl</td>\n",
       "      <td>0.030824</td>\n",
       "      <td>0.150968</td>\n",
       "    </tr>\n",
       "    <tr>\n",
       "      <th>394</th>\n",
       "      <td>44.0</td>\n",
       "      <td>4</td>\n",
       "      <td>97.0</td>\n",
       "      <td>52.0</td>\n",
       "      <td>2130</td>\n",
       "      <td>24.6</td>\n",
       "      <td>82</td>\n",
       "      <td>2</td>\n",
       "      <td>vw pickup</td>\n",
       "      <td>0.024413</td>\n",
       "      <td>0.508169</td>\n",
       "    </tr>\n",
       "    <tr>\n",
       "      <th>395</th>\n",
       "      <td>32.0</td>\n",
       "      <td>4</td>\n",
       "      <td>135.0</td>\n",
       "      <td>84.0</td>\n",
       "      <td>2295</td>\n",
       "      <td>11.6</td>\n",
       "      <td>82</td>\n",
       "      <td>1</td>\n",
       "      <td>dodge rampage</td>\n",
       "      <td>0.036601</td>\n",
       "      <td>0.161743</td>\n",
       "    </tr>\n",
       "    <tr>\n",
       "      <th>396</th>\n",
       "      <td>28.0</td>\n",
       "      <td>4</td>\n",
       "      <td>120.0</td>\n",
       "      <td>79.0</td>\n",
       "      <td>2625</td>\n",
       "      <td>18.6</td>\n",
       "      <td>82</td>\n",
       "      <td>1</td>\n",
       "      <td>ford ranger</td>\n",
       "      <td>0.030095</td>\n",
       "      <td>0.198400</td>\n",
       "    </tr>\n",
       "    <tr>\n",
       "      <th>397</th>\n",
       "      <td>31.0</td>\n",
       "      <td>4</td>\n",
       "      <td>119.0</td>\n",
       "      <td>82.0</td>\n",
       "      <td>2720</td>\n",
       "      <td>19.4</td>\n",
       "      <td>82</td>\n",
       "      <td>1</td>\n",
       "      <td>chevy s-10</td>\n",
       "      <td>0.030147</td>\n",
       "      <td>0.221103</td>\n",
       "    </tr>\n",
       "  </tbody>\n",
       "</table>\n",
       "<p>398 rows × 11 columns</p>\n",
       "</div>"
      ],
      "text/plain": [
       "      mpg  cylinders  displacement  horsepower  weight  acceleration  \\\n",
       "0    18.0          8         307.0       130.0    3504          12.0   \n",
       "1    15.0          8         350.0       165.0    3693          11.5   \n",
       "2    18.0          8         318.0       150.0    3436          11.0   \n",
       "3    16.0          8         304.0       150.0    3433          12.0   \n",
       "4    17.0          8         302.0       140.0    3449          10.5   \n",
       "..    ...        ...           ...         ...     ...           ...   \n",
       "393  27.0          4         140.0        86.0    2790          15.6   \n",
       "394  44.0          4          97.0        52.0    2130          24.6   \n",
       "395  32.0          4         135.0        84.0    2295          11.6   \n",
       "396  28.0          4         120.0        79.0    2625          18.6   \n",
       "397  31.0          4         119.0        82.0    2720          19.4   \n",
       "\n",
       "     model year  origin                   car name  power_to_weight_ratio  \\\n",
       "0            70       1  chevrolet chevelle malibu               0.037100   \n",
       "1            70       1          buick skylark 320               0.044679   \n",
       "2            70       1         plymouth satellite               0.043655   \n",
       "3            70       1              amc rebel sst               0.043694   \n",
       "4            70       1                ford torino               0.040591   \n",
       "..          ...     ...                        ...                    ...   \n",
       "393          82       1            ford mustang gl               0.030824   \n",
       "394          82       2                  vw pickup               0.024413   \n",
       "395          82       1              dodge rampage               0.036601   \n",
       "396          82       1                ford ranger               0.030095   \n",
       "397          82       1                 chevy s-10               0.030147   \n",
       "\n",
       "     performance_score  \n",
       "0             0.061644  \n",
       "1             0.046710  \n",
       "2             0.057625  \n",
       "3             0.055928  \n",
       "4             0.051754  \n",
       "..                 ...  \n",
       "393           0.150968  \n",
       "394           0.508169  \n",
       "395           0.161743  \n",
       "396           0.198400  \n",
       "397           0.221103  \n",
       "\n",
       "[398 rows x 11 columns]"
      ]
     },
     "execution_count": 72,
     "metadata": {},
     "output_type": "execute_result"
    }
   ],
   "source": [
    "def performance_score(row):\n",
    "    return row['mpg'] * row['acceleration'] / row['weight']\n",
    "\n",
    "data['performance_score'] = data.apply(performance_score, axis=1)\n",
    "data\n"
   ]
  },
  {
   "cell_type": "code",
   "execution_count": null,
   "id": "fb28c961-9de7-4552-a239-ff43cefc54f0",
   "metadata": {},
   "outputs": [],
   "source": []
  },
  {
   "cell_type": "code",
   "execution_count": 73,
   "id": "b9fffdc6-0268-4647-a736-6ceb7d335dcf",
   "metadata": {},
   "outputs": [],
   "source": [
    "# 8. Visualization Preparation  Generate a summary DataFrame with: Average mpg, weight, and horsepower for each model_year."
   ]
  },
  {
   "cell_type": "code",
   "execution_count": 75,
   "id": "55ede677-96cd-4549-94f4-c6df5833fa5b",
   "metadata": {},
   "outputs": [
    {
     "data": {
      "text/html": [
       "<div>\n",
       "<style scoped>\n",
       "    .dataframe tbody tr th:only-of-type {\n",
       "        vertical-align: middle;\n",
       "    }\n",
       "\n",
       "    .dataframe tbody tr th {\n",
       "        vertical-align: top;\n",
       "    }\n",
       "\n",
       "    .dataframe thead th {\n",
       "        text-align: right;\n",
       "    }\n",
       "</style>\n",
       "<table border=\"1\" class=\"dataframe\">\n",
       "  <thead>\n",
       "    <tr style=\"text-align: right;\">\n",
       "      <th></th>\n",
       "      <th>model year</th>\n",
       "      <th>mpg</th>\n",
       "      <th>weight</th>\n",
       "      <th>horsepower</th>\n",
       "    </tr>\n",
       "  </thead>\n",
       "  <tbody>\n",
       "    <tr>\n",
       "      <th>0</th>\n",
       "      <td>70</td>\n",
       "      <td>17.689655</td>\n",
       "      <td>3372.793103</td>\n",
       "      <td>147.827586</td>\n",
       "    </tr>\n",
       "    <tr>\n",
       "      <th>1</th>\n",
       "      <td>71</td>\n",
       "      <td>21.250000</td>\n",
       "      <td>2995.428571</td>\n",
       "      <td>106.553571</td>\n",
       "    </tr>\n",
       "    <tr>\n",
       "      <th>2</th>\n",
       "      <td>72</td>\n",
       "      <td>18.714286</td>\n",
       "      <td>3237.714286</td>\n",
       "      <td>120.178571</td>\n",
       "    </tr>\n",
       "    <tr>\n",
       "      <th>3</th>\n",
       "      <td>73</td>\n",
       "      <td>17.100000</td>\n",
       "      <td>3419.025000</td>\n",
       "      <td>130.475000</td>\n",
       "    </tr>\n",
       "    <tr>\n",
       "      <th>4</th>\n",
       "      <td>74</td>\n",
       "      <td>22.703704</td>\n",
       "      <td>2877.925926</td>\n",
       "      <td>94.203704</td>\n",
       "    </tr>\n",
       "    <tr>\n",
       "      <th>5</th>\n",
       "      <td>75</td>\n",
       "      <td>20.266667</td>\n",
       "      <td>3176.800000</td>\n",
       "      <td>101.066667</td>\n",
       "    </tr>\n",
       "    <tr>\n",
       "      <th>6</th>\n",
       "      <td>76</td>\n",
       "      <td>21.573529</td>\n",
       "      <td>3078.735294</td>\n",
       "      <td>101.117647</td>\n",
       "    </tr>\n",
       "    <tr>\n",
       "      <th>7</th>\n",
       "      <td>77</td>\n",
       "      <td>23.375000</td>\n",
       "      <td>2997.357143</td>\n",
       "      <td>105.071429</td>\n",
       "    </tr>\n",
       "    <tr>\n",
       "      <th>8</th>\n",
       "      <td>78</td>\n",
       "      <td>24.061111</td>\n",
       "      <td>2861.805556</td>\n",
       "      <td>99.694444</td>\n",
       "    </tr>\n",
       "    <tr>\n",
       "      <th>9</th>\n",
       "      <td>79</td>\n",
       "      <td>25.093103</td>\n",
       "      <td>3055.344828</td>\n",
       "      <td>101.206897</td>\n",
       "    </tr>\n",
       "    <tr>\n",
       "      <th>10</th>\n",
       "      <td>80</td>\n",
       "      <td>33.696552</td>\n",
       "      <td>2436.655172</td>\n",
       "      <td>78.586207</td>\n",
       "    </tr>\n",
       "    <tr>\n",
       "      <th>11</th>\n",
       "      <td>81</td>\n",
       "      <td>30.334483</td>\n",
       "      <td>2522.931034</td>\n",
       "      <td>81.465517</td>\n",
       "    </tr>\n",
       "    <tr>\n",
       "      <th>12</th>\n",
       "      <td>82</td>\n",
       "      <td>31.709677</td>\n",
       "      <td>2453.548387</td>\n",
       "      <td>81.854839</td>\n",
       "    </tr>\n",
       "  </tbody>\n",
       "</table>\n",
       "</div>"
      ],
      "text/plain": [
       "    model year        mpg       weight  horsepower\n",
       "0           70  17.689655  3372.793103  147.827586\n",
       "1           71  21.250000  2995.428571  106.553571\n",
       "2           72  18.714286  3237.714286  120.178571\n",
       "3           73  17.100000  3419.025000  130.475000\n",
       "4           74  22.703704  2877.925926   94.203704\n",
       "5           75  20.266667  3176.800000  101.066667\n",
       "6           76  21.573529  3078.735294  101.117647\n",
       "7           77  23.375000  2997.357143  105.071429\n",
       "8           78  24.061111  2861.805556   99.694444\n",
       "9           79  25.093103  3055.344828  101.206897\n",
       "10          80  33.696552  2436.655172   78.586207\n",
       "11          81  30.334483  2522.931034   81.465517\n",
       "12          82  31.709677  2453.548387   81.854839"
      ]
     },
     "execution_count": 75,
     "metadata": {},
     "output_type": "execute_result"
    }
   ],
   "source": [
    "summary = data.groupby('model year')[['mpg', 'weight', 'horsepower']].mean().reset_index()\n",
    "summary"
   ]
  },
  {
   "cell_type": "code",
   "execution_count": null,
   "id": "7febc5d5-ac20-4ee3-9490-38218618cb68",
   "metadata": {},
   "outputs": [],
   "source": []
  },
  {
   "cell_type": "code",
   "execution_count": 76,
   "id": "6d7cb710-0e45-46e3-9007-b73ffeda1e5f",
   "metadata": {},
   "outputs": [],
   "source": [
    "# 9. Exporting Data \n",
    "# Save a subset of the data containing only mpg, cylinders, horsepower, and weight \n",
    "# for cars with mpg > 30 into a CSV file named high_mpg_cars.csv."
   ]
  },
  {
   "cell_type": "code",
   "execution_count": 84,
   "id": "c1c72e6c-8f81-4135-84af-3060925e7ed5",
   "metadata": {},
   "outputs": [
    {
     "data": {
      "text/html": [
       "<div>\n",
       "<style scoped>\n",
       "    .dataframe tbody tr th:only-of-type {\n",
       "        vertical-align: middle;\n",
       "    }\n",
       "\n",
       "    .dataframe tbody tr th {\n",
       "        vertical-align: top;\n",
       "    }\n",
       "\n",
       "    .dataframe thead th {\n",
       "        text-align: right;\n",
       "    }\n",
       "</style>\n",
       "<table border=\"1\" class=\"dataframe\">\n",
       "  <thead>\n",
       "    <tr style=\"text-align: right;\">\n",
       "      <th></th>\n",
       "      <th>mpg</th>\n",
       "      <th>cylinders</th>\n",
       "      <th>horsepower</th>\n",
       "      <th>weight</th>\n",
       "    </tr>\n",
       "  </thead>\n",
       "  <tbody>\n",
       "    <tr>\n",
       "      <th>53</th>\n",
       "      <td>31.0</td>\n",
       "      <td>4</td>\n",
       "      <td>65.0</td>\n",
       "      <td>1773</td>\n",
       "    </tr>\n",
       "    <tr>\n",
       "      <th>54</th>\n",
       "      <td>35.0</td>\n",
       "      <td>4</td>\n",
       "      <td>69.0</td>\n",
       "      <td>1613</td>\n",
       "    </tr>\n",
       "    <tr>\n",
       "      <th>129</th>\n",
       "      <td>31.0</td>\n",
       "      <td>4</td>\n",
       "      <td>67.0</td>\n",
       "      <td>1950</td>\n",
       "    </tr>\n",
       "    <tr>\n",
       "      <th>131</th>\n",
       "      <td>32.0</td>\n",
       "      <td>4</td>\n",
       "      <td>65.0</td>\n",
       "      <td>1836</td>\n",
       "    </tr>\n",
       "    <tr>\n",
       "      <th>144</th>\n",
       "      <td>31.0</td>\n",
       "      <td>4</td>\n",
       "      <td>52.0</td>\n",
       "      <td>1649</td>\n",
       "    </tr>\n",
       "    <tr>\n",
       "      <th>...</th>\n",
       "      <td>...</td>\n",
       "      <td>...</td>\n",
       "      <td>...</td>\n",
       "      <td>...</td>\n",
       "    </tr>\n",
       "    <tr>\n",
       "      <th>390</th>\n",
       "      <td>32.0</td>\n",
       "      <td>4</td>\n",
       "      <td>96.0</td>\n",
       "      <td>2665</td>\n",
       "    </tr>\n",
       "    <tr>\n",
       "      <th>391</th>\n",
       "      <td>36.0</td>\n",
       "      <td>4</td>\n",
       "      <td>84.0</td>\n",
       "      <td>2370</td>\n",
       "    </tr>\n",
       "    <tr>\n",
       "      <th>394</th>\n",
       "      <td>44.0</td>\n",
       "      <td>4</td>\n",
       "      <td>52.0</td>\n",
       "      <td>2130</td>\n",
       "    </tr>\n",
       "    <tr>\n",
       "      <th>395</th>\n",
       "      <td>32.0</td>\n",
       "      <td>4</td>\n",
       "      <td>84.0</td>\n",
       "      <td>2295</td>\n",
       "    </tr>\n",
       "    <tr>\n",
       "      <th>397</th>\n",
       "      <td>31.0</td>\n",
       "      <td>4</td>\n",
       "      <td>82.0</td>\n",
       "      <td>2720</td>\n",
       "    </tr>\n",
       "  </tbody>\n",
       "</table>\n",
       "<p>85 rows × 4 columns</p>\n",
       "</div>"
      ],
      "text/plain": [
       "      mpg  cylinders  horsepower  weight\n",
       "53   31.0          4        65.0    1773\n",
       "54   35.0          4        69.0    1613\n",
       "129  31.0          4        67.0    1950\n",
       "131  32.0          4        65.0    1836\n",
       "144  31.0          4        52.0    1649\n",
       "..    ...        ...         ...     ...\n",
       "390  32.0          4        96.0    2665\n",
       "391  36.0          4        84.0    2370\n",
       "394  44.0          4        52.0    2130\n",
       "395  32.0          4        84.0    2295\n",
       "397  31.0          4        82.0    2720\n",
       "\n",
       "[85 rows x 4 columns]"
      ]
     },
     "execution_count": 84,
     "metadata": {},
     "output_type": "execute_result"
    }
   ],
   "source": [
    "high_mpg_cars = data[data['mpg'] > 30][['mpg', 'cylinders', 'horsepower', 'weight']]\n",
    "high_mpg_cars\n"
   ]
  },
  {
   "cell_type": "code",
   "execution_count": 85,
   "id": "cbaa7cf1-f3aa-4bb6-bbda-1f5fb95b750d",
   "metadata": {},
   "outputs": [
    {
     "name": "stdout",
     "output_type": "stream",
     "text": [
      "The file 'high_mpg_cars.csv' has been successfully created!\n"
     ]
    }
   ],
   "source": [
    "high_mpg_cars.to_csv('high_mpg_cars.csv', index=False)\n",
    "print(\"The file 'high_mpg_cars.csv' has been successfully created!\")"
   ]
  },
  {
   "cell_type": "code",
   "execution_count": null,
   "id": "4b19239e-817b-4185-b8f9-517fb0f20063",
   "metadata": {},
   "outputs": [],
   "source": [
    "# 10. Finding Anomalies \n",
    "# Identify potential outliers in the mpg column using the Interquartile Range (IQR) \n",
    "# method. Specifically: \n",
    "# ● Calculate the IQR for mpg. \n",
    "# ● Define outliers as values less than Q1 - 1.5 * IQR or greater than Q3 + 1.5 * \n",
    "# IQR. \n",
    "# ● Create a DataFrame of cars classified as outliers, displaying car_name, mpg, \n",
    "# and model_year."
   ]
  },
  {
   "cell_type": "code",
   "execution_count": null,
   "id": "0bf1ac1b-5b2e-45bf-ad6f-e3dae6237ec2",
   "metadata": {},
   "outputs": [],
   "source": []
  },
  {
   "cell_type": "code",
   "execution_count": 90,
   "id": "97cabfd4-89a1-442a-a5b2-d1ba8eb67409",
   "metadata": {},
   "outputs": [
    {
     "name": "stdout",
     "output_type": "stream",
     "text": [
      "Q1 17.5\n",
      "Q3 29.0\n",
      "IQR 11.5\n"
     ]
    }
   ],
   "source": [
    "\n",
    "Q1 = data['mpg'].quantile(0.25)  \n",
    "Q3 = data['mpg'].quantile(0.75)  \n",
    "IQR = Q3 - Q1     \n",
    "\n",
    "print(\"Q1\",Q1)\n",
    "print(\"Q3\",Q3)\n",
    "print(\"IQR\",IQR)"
   ]
  },
  {
   "cell_type": "code",
   "execution_count": 91,
   "id": "0ebeaa3d-6429-4626-9f82-3b02bf7aaf9d",
   "metadata": {},
   "outputs": [
    {
     "name": "stdout",
     "output_type": "stream",
     "text": [
      "Lower Bound 0.25\n",
      "Upper Bound 46.25\n"
     ]
    }
   ],
   "source": [
    "\n",
    "lower_bound = Q1 - 1.5 * IQR\n",
    "upper_bound = Q3 + 1.5 * IQR\n",
    "\n",
    "print(\"Lower Bound\",lower_bound)\n",
    "print(\"Upper Bound\",upper_bound)"
   ]
  },
  {
   "cell_type": "code",
   "execution_count": 93,
   "id": "bd5331c2-2837-453e-a41c-b2cac841dae6",
   "metadata": {},
   "outputs": [
    {
     "data": {
      "text/html": [
       "<div>\n",
       "<style scoped>\n",
       "    .dataframe tbody tr th:only-of-type {\n",
       "        vertical-align: middle;\n",
       "    }\n",
       "\n",
       "    .dataframe tbody tr th {\n",
       "        vertical-align: top;\n",
       "    }\n",
       "\n",
       "    .dataframe thead th {\n",
       "        text-align: right;\n",
       "    }\n",
       "</style>\n",
       "<table border=\"1\" class=\"dataframe\">\n",
       "  <thead>\n",
       "    <tr style=\"text-align: right;\">\n",
       "      <th></th>\n",
       "      <th>car name</th>\n",
       "      <th>mpg</th>\n",
       "      <th>model year</th>\n",
       "    </tr>\n",
       "  </thead>\n",
       "  <tbody>\n",
       "    <tr>\n",
       "      <th>322</th>\n",
       "      <td>mazda glc</td>\n",
       "      <td>46.6</td>\n",
       "      <td>80</td>\n",
       "    </tr>\n",
       "  </tbody>\n",
       "</table>\n",
       "</div>"
      ],
      "text/plain": [
       "      car name   mpg  model year\n",
       "322  mazda glc  46.6          80"
      ]
     },
     "execution_count": 93,
     "metadata": {},
     "output_type": "execute_result"
    }
   ],
   "source": [
    "outliers = data[(data['mpg'] < lower_bound) | (data['mpg'] > upper_bound)][['car name', 'mpg', 'model year']]\n",
    "outliers"
   ]
  },
  {
   "cell_type": "code",
   "execution_count": null,
   "id": "0d678c81-088a-47a2-9b01-937b6ff4c434",
   "metadata": {},
   "outputs": [],
   "source": []
  }
 ],
 "metadata": {
  "kernelspec": {
   "display_name": "Python 3 (ipykernel)",
   "language": "python",
   "name": "python3"
  },
  "language_info": {
   "codemirror_mode": {
    "name": "ipython",
    "version": 3
   },
   "file_extension": ".py",
   "mimetype": "text/x-python",
   "name": "python",
   "nbconvert_exporter": "python",
   "pygments_lexer": "ipython3",
   "version": "3.13.2"
  }
 },
 "nbformat": 4,
 "nbformat_minor": 5
}
